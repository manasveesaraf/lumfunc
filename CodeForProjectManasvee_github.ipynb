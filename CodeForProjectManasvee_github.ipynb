{
 "cells": [
  {
   "cell_type": "markdown",
   "metadata": {},
   "source": [
    "# PHAS0096: A Universe Census of Galaxies\n",
    "_Manasvee Saraf_ \n",
    "\n",
    "Supervisor: Dr. Benjamin Joachimi "
   ]
  },
  {
   "cell_type": "code",
   "execution_count": 3,
   "metadata": {
    "ExecuteTime": {
     "end_time": "2020-08-15T16:02:51.971154Z",
     "start_time": "2020-08-15T16:02:51.215358Z"
    }
   },
   "outputs": [],
   "source": [
    "# plot figures embedded in the notebook\n",
    "%matplotlib inline\n",
    "\n",
    "# FOR SCHECHTER\n",
    "from scipy.optimize import curve_fit\n",
    "\n",
    "# FOR PLOTTING\n",
    "import matplotlib.cm as cm\n",
    "import matplotlib.pyplot as plt\n",
    "import matplotlib\n",
    "\n",
    "# FOR ERRORS\n",
    "from kmeans_radec import KMeans, kmeans_sample\n",
    "import kmeans_radec\n",
    "\n",
    "# FOR MATH\n",
    "import numpy as np\n",
    "\n",
    "# FOR FINDING LUMINOSITY/COMOVING DISTANCES\n",
    "from astropy.cosmology import FlatLambdaCDM\n",
    "import astropy.units as u\n",
    "cosmo = FlatLambdaCDM(H0=70 * u.km / u.s / u.Mpc, Tcmb0=2.725 * u.K, Om0=0.3)"
   ]
  },
  {
   "cell_type": "markdown",
   "metadata": {},
   "source": [
    "### Magnitude Data Reduction\n",
    "\n",
    "#### Maggy\n",
    "$$ f = 10^{\\frac{m}{-2.5}}$$"
   ]
  },
  {
   "cell_type": "code",
   "execution_count": 4,
   "metadata": {
    "ExecuteTime": {
     "end_time": "2020-08-15T16:03:03.006583Z",
     "start_time": "2020-08-15T16:03:02.993642Z"
    }
   },
   "outputs": [],
   "source": [
    "# MAGGY FROM APPARENT MAGNITUDES\n",
    "def get_maggy(app_mag_list):\n",
    "    \"\"\"\n",
    "    Argument: \n",
    "    (1) numpy array of all apparent magnitude values\n",
    "    Return: \n",
    "    (1) numpy array of all correspoding maggy values\n",
    "    \"\"\"\n",
    "    maggies_list = 10**(app_mag_list / (-2.5))\n",
    "    return maggies_list"
   ]
  },
  {
   "cell_type": "code",
   "execution_count": 5,
   "metadata": {
    "ExecuteTime": {
     "end_time": "2020-08-15T16:03:04.218940Z",
     "start_time": "2020-08-15T16:03:04.199287Z"
    }
   },
   "outputs": [
    {
     "data": {
      "text/plain": [
       "array([1.e-04, 1.e-40, 1.e-08])"
      ]
     },
     "execution_count": 5,
     "metadata": {},
     "output_type": "execute_result"
    }
   ],
   "source": [
    "get_maggy(np.array([10,100,20]))"
   ]
  },
  {
   "cell_type": "markdown",
   "metadata": {},
   "source": [
    "#### Inverse variance of maggy\n",
    "Conversion to the inverse variances from the maggies and the magnitude errors:\n",
    "$$ \\sigma^{-2}_{f} = (0.4 \\ln(10)f\\sigma_{m})^{-2}$$"
   ]
  },
  {
   "cell_type": "code",
   "execution_count": 4,
   "metadata": {
    "ExecuteTime": {
     "end_time": "2020-08-14T23:17:52.479987Z",
     "start_time": "2020-08-14T23:17:52.472203Z"
    }
   },
   "outputs": [],
   "source": [
    "# MAGGY INVERSE VARIANCE FROM MAGGY AND APPARENT MAGNITUDES ERRORS\n",
    "def get_maggy_inv_var(maggies_list, app_mag_err_list):\n",
    "    \"\"\"\n",
    "    Argument: \n",
    "    (1) numpy array of all maggy values\n",
    "    (2) numpy array of all correspoding errors on apparent magnitude values\n",
    "    Return: \n",
    "    (1) numpy array of all correspoding maggy inverse variance values \n",
    "    \"\"\"\n",
    "\n",
    "    inv_var_list = (0.4 * np.log(10) * maggies_list * app_mag_err_list)**(-2)\n",
    "    return inv_var_list"
   ]
  },
  {
   "cell_type": "code",
   "execution_count": 5,
   "metadata": {
    "ExecuteTime": {
     "end_time": "2020-08-14T23:17:52.496715Z",
     "start_time": "2020-08-14T23:17:52.483784Z"
    }
   },
   "outputs": [
    {
     "data": {
      "text/plain": [
       "array([1.17882311e+16, 1.17882311e+88, 1.17882311e+24])"
      ]
     },
     "execution_count": 5,
     "metadata": {},
     "output_type": "execute_result"
    }
   ],
   "source": [
    "get_maggy_inv_var(np.array([1.e-4, 1.e-40, 1.e-8]),np.array([1.e-4, 1.e-4, 1.e-4]))"
   ]
  },
  {
   "cell_type": "markdown",
   "metadata": {},
   "source": [
    "#### Rest-frame magnitude\n",
    "$$ M = m - 5log_{10}d_{L}(z) - 25 - K(z;z_{0}) $$\n",
    "where\n",
    "#### K-corrections\n",
    "$$ K(z;z_{0}) = −2.5 log10\\left(\\frac{f}{f_{z_{0}}}\\right)$$"
   ]
  },
  {
   "cell_type": "code",
   "execution_count": 6,
   "metadata": {
    "ExecuteTime": {
     "end_time": "2020-08-14T23:17:52.514351Z",
     "start_time": "2020-08-14T23:17:52.500314Z"
    }
   },
   "outputs": [],
   "source": [
    "# REST-FRAME MAG FROM APPARENT MAG, REDSHIFTS AND MAGGY RATIOS\n",
    "def get_rest_mag(redshift_list, app_mag_list, maggy_ratio_list):\n",
    "    \"\"\"\n",
    "    Arguments: \n",
    "    (1) numpy array of all redshifts\n",
    "    (2) numpy array of all corresponding apparent magnitudes\n",
    "    (3) numpy array of all corresponding maggy ratios\n",
    "    Return: \n",
    "    (1) numpy array of all corresponding rest-frame magnitudes\n",
    "    \"\"\"\n",
    "\n",
    "    # calculate luminosity distance\n",
    "    lum_dist_list = cosmo.luminosity_distance(redshift_list).value\n",
    "    print('\\tLuminosity distance calculated.')\n",
    "\n",
    "    # calculate abs mag\n",
    "    abs_mag_list = app_mag_list - (5 * np.log10(lum_dist_list)) - 25\n",
    "    print('\\tAbsolute magnitude calculated.')\n",
    "\n",
    "    # calculate K corrections\n",
    "    Kcorr_list = -2.5 * np.log10(maggy_ratio_list)\n",
    "    print('\\tK-corrections calculated.')\n",
    "\n",
    "    # calculate rest mag\n",
    "    rest_mag_list = abs_mag_list - Kcorr_list\n",
    "    print('\\tRest-frame magnitude calculated.')\n",
    "\n",
    "    return rest_mag_list"
   ]
  },
  {
   "cell_type": "code",
   "execution_count": 7,
   "metadata": {
    "ExecuteTime": {
     "end_time": "2020-08-14T23:17:52.557245Z",
     "start_time": "2020-08-14T23:17:52.525355Z"
    }
   },
   "outputs": [
    {
     "name": "stdout",
     "output_type": "stream",
     "text": [
      "\tLuminosity distance calculated.\n",
      "\tAbsolute magnitude calculated.\n",
      "\tK-corrections calculated.\n",
      "\tRest-frame magnitude calculated.\n"
     ]
    },
    {
     "data": {
      "text/plain": [
       "array([-56.70244042, -59.19851686, -61.06979436])"
      ]
     },
     "execution_count": 7,
     "metadata": {},
     "output_type": "execute_result"
    }
   ],
   "source": [
    "get_rest_mag(np.array([0.1, 0.2, 0.3]), np.array([-18, -19, -20]),\n",
    "             np.array([0.7, 0.8, 0.9]))"
   ]
  },
  {
   "cell_type": "markdown",
   "metadata": {},
   "source": [
    "### The $1/V_{max}$ weighted Luminosity Function"
   ]
  },
  {
   "cell_type": "markdown",
   "metadata": {},
   "source": [
    "#### Comoving Volume\n",
    "$$V_{C} = \\frac{\\omega}{3}[cmd(z)]^{3}$$\n",
    "where $\\omega$ is the survey's area is steradians."
   ]
  },
  {
   "cell_type": "code",
   "execution_count": 8,
   "metadata": {
    "ExecuteTime": {
     "end_time": "2020-08-14T23:17:52.570631Z",
     "start_time": "2020-08-14T23:17:52.563067Z"
    }
   },
   "outputs": [],
   "source": [
    "# VOLUME FROM SURVEY AREA AND REDSHIFT VALUES\n",
    "def get_volume(survey_area, redshift_list):\n",
    "    \"\"\"\n",
    "    Arguments:\n",
    "    (1) float value of survey area in sq. deg. \n",
    "    (2) numpy array of all redshifts\n",
    "    Return: \n",
    "    (1) numpy array of all corresponding comoving volumes\n",
    "    \"\"\"\n",
    "\n",
    "    # calculate comoving distance\n",
    "    com_dist_list = cosmo.comoving_distance(redshift_list).value\n",
    "    print('\\tComoving distance calculated.')\n",
    "\n",
    "    # convert survey area to steradian\n",
    "    survey_steradian = survey_area * ((np.pi / 180.)**2)\n",
    "    print('\\tSurvey area converted.')\n",
    "\n",
    "    # calculate comoving volume\n",
    "    vol_list = (com_dist_list**3) * (survey_steradian / 3)\n",
    "    print('\\tComoving volume calculated.')\n",
    "\n",
    "    return vol_list"
   ]
  },
  {
   "cell_type": "code",
   "execution_count": 9,
   "metadata": {
    "ExecuteTime": {
     "end_time": "2020-08-14T23:17:52.592287Z",
     "start_time": "2020-08-14T23:17:52.575173Z"
    }
   },
   "outputs": [
    {
     "name": "stdout",
     "output_type": "stream",
     "text": [
      "\tComoving distance calculated.\n",
      "\tSurvey area converted.\n",
      "\tComoving volume calculated.\n"
     ]
    },
    {
     "data": {
      "text/plain": [
       "array([3.66072279e+08, 1.41050409e+09, 2.60516393e+09])"
      ]
     },
     "execution_count": 9,
     "metadata": {},
     "output_type": "execute_result"
    }
   ],
   "source": [
    "get_volume(100.0, np.array([1, 2, 3]))"
   ]
  },
  {
   "cell_type": "markdown",
   "metadata": {},
   "source": [
    "#### Binning and weighting counts\n",
    "\n",
    "Binning into equal luminosity bins. Then weighting the number of galaxies by inverse of comoving volume. "
   ]
  },
  {
   "cell_type": "code",
   "execution_count": 10,
   "metadata": {
    "ExecuteTime": {
     "end_time": "2020-08-14T23:17:52.614378Z",
     "start_time": "2020-08-14T23:17:52.597001Z"
    }
   },
   "outputs": [],
   "source": [
    "# PHI FROM REST-FRAME MAG AND MAXIMUM GALAXY VOLUME VALUES AND NUMBER OF BINS\n",
    "def get_binned_phi(rest_mag_list, Vmax_list, n_mag_bins):\n",
    "    \"\"\"\n",
    "    Arguments:\n",
    "    (1) numpy array of all rest-frame magnitudes\n",
    "    (2) numpy array of all corresponding maximum volumes\n",
    "    (3) integer value of number of magnitude bins required\n",
    "    Return:\n",
    "    (1) numpy array of mid-magnitude (i.e. x) value of each bin\n",
    "    (2) numpy array of magnitude-width/2 (i.e. x-error) value of each bin\n",
    "    (3) numpy array of phi (i.e. y) value of each bin (with h = 0.7)\n",
    "    \"\"\"\n",
    "\n",
    "    # get bin_edges for diving the rest_mags in n_bins\n",
    "    counts, bin_edges = np.histogram(rest_mag_list, bins=n_mag_bins)\n",
    "\n",
    "    # sort rest_mag and Vmax lists per increasing mag\n",
    "    sorted_index = np.argsort(rest_mag_list)\n",
    "    sorted_Vmax_list = np.array(Vmax_list)[sorted_index]\n",
    "    sorted_rest_mag_list = np.sort(rest_mag_list)\n",
    "\n",
    "    # ceate empty lists for mid_M, phi and M_err\n",
    "    mid_M_list = np.empty(n_mag_bins)\n",
    "    M_err_list = np.empty(n_mag_bins)\n",
    "    phi_list = np.empty(n_mag_bins)\n",
    "\n",
    "    # loop over each bin\n",
    "    for i in range(n_mag_bins):\n",
    "\n",
    "        # find min and max M of bin\n",
    "        max_M = bin_edges[i + 1]\n",
    "        min_M = bin_edges[i]\n",
    "\n",
    "        # add mid_M to list\n",
    "        mid_M_list[i] = (min_M + max_M) / 2\n",
    "\n",
    "        # add M_err to list\n",
    "        M_err_list[i] = (abs(min_M) - abs(max_M)) / 2\n",
    "\n",
    "        # find indicies upto the max_M\n",
    "        up_lim_indices = np.where(sorted_rest_mag_list <= max_M)[0]\n",
    "\n",
    "        # limit M and Vmax corresponding to max_M\n",
    "        up_lim_rest_mag_list = sorted_rest_mag_list[up_lim_indices]\n",
    "        up_lim_Vmax_list = sorted_Vmax_list[up_lim_indices]\n",
    "\n",
    "        # find indicies from min_M to max_M value of bin\n",
    "        if i != 0:\n",
    "            lim_indices = np.where(up_lim_rest_mag_list > min_M)[0]\n",
    "        else:\n",
    "            lim_indices = np.where(up_lim_rest_mag_list >= min_M)[0]\n",
    "\n",
    "        # limit Vmax corresponding from min_M to max_M\n",
    "        Vmax_values = up_lim_Vmax_list[lim_indices]\n",
    "\n",
    "        # calculate 1/Vmax\n",
    "        phi_values = np.reciprocal(Vmax_values)\n",
    "        # sum 1/Vmax all in this bin\n",
    "        phi = sum(phi_values)\n",
    "\n",
    "        # convert 1/Vmax to phi and add to list\n",
    "        h = 0.7\n",
    "        phi_list[i] = phi * ((h)**3) / M_err_list[i]\n",
    "\n",
    "    return mid_M_list, M_err_list, phi_list"
   ]
  },
  {
   "cell_type": "code",
   "execution_count": 11,
   "metadata": {
    "ExecuteTime": {
     "end_time": "2020-08-14T23:17:52.630930Z",
     "start_time": "2020-08-14T23:17:52.617645Z"
    }
   },
   "outputs": [
    {
     "data": {
      "text/plain": [
       "(array([-19.8, -19.4, -19. , -18.6, -18.2]),\n",
       " array([0.2, 0.2, 0.2, 0.2, 0.2]),\n",
       " array([3.43000000e-09, 0.00000000e+00, 1.62925000e-08, 0.00000000e+00,\n",
       "        9.14666667e-09]))"
      ]
     },
     "execution_count": 11,
     "metadata": {},
     "output_type": "execute_result"
    }
   ],
   "source": [
    "get_binned_phi(np.array([-18, -19, -19, -19, -18, -19, -20]),\n",
    "               np.array([3e8, 4e8, 5e8, 4e8, 5e8, 4e8, 5e8]), 5)"
   ]
  },
  {
   "cell_type": "markdown",
   "metadata": {},
   "source": [
    "### Error on the $1/V_{max}$ weighted Luminosity Function"
   ]
  },
  {
   "cell_type": "markdown",
   "metadata": {},
   "source": [
    "#### Dividing survey area into equal patches"
   ]
  },
  {
   "cell_type": "code",
   "execution_count": 12,
   "metadata": {
    "ExecuteTime": {
     "end_time": "2020-08-14T23:17:52.662607Z",
     "start_time": "2020-08-14T23:17:52.640759Z"
    }
   },
   "outputs": [],
   "source": [
    "# LABELS FOR PATCHES FROM RA, DEC, NUMBER OF PATCHES AND CENTER GUESSES\n",
    "def get_patches(RA_list,\n",
    "                DEC_list,\n",
    "                n_patches,\n",
    "                center_guesses,\n",
    "                survey='kids',\n",
    "                numba_installed=True,\n",
    "                plot_savename='none'):\n",
    "    \"\"\"\n",
    "    Arguments:\n",
    "    (1) numpy array of all RA values\n",
    "    (2) numpy array of all corresponding Dec values\n",
    "    (3) integer value of number of patches required\n",
    "    (4) (n_patches, 2) numpy array of patch center guesses [RA,Dec]\n",
    "    (5) string with survey name\n",
    "        only change if survey area covers/connects over 320 degree RA\n",
    "        and does not connect over 360 to 0 degree RA\n",
    "    (6) Boolean - mark as False if numba is not installed\n",
    "    (7) string with name and extension to save plot as\n",
    "    Return: \n",
    "    (1) numpy array of patch assignment labels for each RA entry\n",
    "    \"\"\"\n",
    "\n",
    "    # MAKE SURE ALL PATCHES ARE SITCHED ON SKY\n",
    "    # works for most surveys - GAMA, KiDS - check rest\n",
    "    if survey == 'kids':\n",
    "        corrected_RA_list = np.where(RA_list > 320., RA_list - 360., RA_list)\n",
    "    # use if a survey patch covers/connects over 320 degrees RA\n",
    "    # and does not connect over 360 to 0 degree RA\n",
    "    if survey != 'kids':\n",
    "        corrected_RA_list = RA_list\n",
    "\n",
    "    # STACK RA AND DEC AS X\n",
    "    X = np.column_stack((corrected_RA_list, DEC_list))\n",
    "\n",
    "    # FIND LABELS TO DIVIDE X INTO EQUAL n_patches\n",
    "    if numba_installed:\n",
    "        km = KMeans(center_guesses, method='fast')\n",
    "    else:\n",
    "        km = KMeans(center_guesses)\n",
    "    labels = km.find_nearest(X)\n",
    "\n",
    "    # VISUALISE ON PLOT\n",
    "    colors = cm.tab20(np.linspace(0, 1, n_patches))\n",
    "    plt.figure(figsize=(10, 10))\n",
    "    plt.suptitle(\"Galaxy Patches\", fontsize=20)\n",
    "\n",
    "    # get patch counts on histogram\n",
    "    plt.subplot(211)\n",
    "    plt.grid(True)\n",
    "    N, b, p = plt.hist(labels, bins=n_patches)\n",
    "    for n in range(n_patches):\n",
    "        p[n].set_facecolor(colors[n])\n",
    "    plt.xlabel(\"Label\", fontsize=20)\n",
    "    plt.ylabel(\"Count\", fontsize=20)\n",
    "\n",
    "    # get patches on sky\n",
    "    plt.subplot(212)\n",
    "    for n in range(n_patches):\n",
    "        plt.grid(True)\n",
    "        subset_indices = np.where(labels == n)\n",
    "        plt.scatter(corrected_RA_list[subset_indices],\n",
    "                    DEC_list[subset_indices],\n",
    "                    color=colors[n],\n",
    "                    s=1)\n",
    "        # if 'gama' in datasetname:\n",
    "            # plt.xlim(120, 240)\n",
    "            # plt.ylim(-10, 10)\n",
    "        # if 'kids' in datasetname:\n",
    "            # plt.xlim(-50, 250)\n",
    "            # plt.ylim(-40, 10)\n",
    "        plt.xlabel(\"RA(J2000)/ deg\", fontsize=20)\n",
    "        plt.ylabel(\"Dec(J2000)/ deg\", fontsize=20)\n",
    "\n",
    "    if plot_savename != 'none':\n",
    "        plt.savefig(plot_savename, dpi=300)\n",
    "    plt.show()\n",
    "\n",
    "    return labels"
   ]
  },
  {
   "cell_type": "code",
   "execution_count": 13,
   "metadata": {
    "ExecuteTime": {
     "end_time": "2020-08-14T23:17:53.069556Z",
     "start_time": "2020-08-14T23:17:52.666267Z"
    }
   },
   "outputs": [
    {
     "data": {
      "image/png": "[encoded data removed]",
      "text/plain": [
       "<Figure size 720x720 with 2 Axes>"
      ]
     },
     "metadata": {
      "needs_background": "light"
     },
     "output_type": "display_data"
    },
    {
     "data": {
      "text/plain": [
       "array([0, 0, 2, 0, 0, 2])"
      ]
     },
     "execution_count": 13,
     "metadata": {},
     "output_type": "execute_result"
    }
   ],
   "source": [
    "get_patches(np.array([20, 21, 22, 20, 21, 22]),\n",
    "            np.array([20, 21, 22, 20, 21, 22]),\n",
    "            3,\n",
    "            np.array([[20, 21], [22, 20], [21, 22], [20, 21], [22, 20],\n",
    "                      [21, 22]]),\n",
    "            survey='kids',\n",
    "            numba_installed=True,\n",
    "            plot_savename='none')"
   ]
  },
  {
   "cell_type": "markdown",
   "metadata": {},
   "source": [
    "#### Errors on $\\phi$ values"
   ]
  },
  {
   "cell_type": "code",
   "execution_count": 14,
   "metadata": {
    "ExecuteTime": {
     "end_time": "2020-08-14T23:17:53.085684Z",
     "start_time": "2020-08-14T23:17:53.072899Z"
    }
   },
   "outputs": [],
   "source": [
    "# PHI ERROR FROM REST-FRAME MAG, MAXIMUM GALAXY VOLUME VALUES, LABELS, NUMBER OF PATCHES AND NUMBER OF BINS\n",
    "def get_binned_phi_error(rest_mag_list, Vmax_list, labels, n_patches,\n",
    "                         n_mag_bins):\n",
    "    \"\"\"\n",
    "    Arguments:\n",
    "    (1) numpy array of all rest-frame magnitudes\n",
    "    (2) numpy array of all corresponding maximum volumes\n",
    "    (3) numpy array of all corresponding patch assignment labels\n",
    "    (4) integer value of number of patches required\n",
    "    (5) integer value of number of magnitude bins required\n",
    "    Return: \n",
    "    (1) numpy array of phi error (i.e. y-error) value of each bin\n",
    "    \"\"\"\n",
    "\n",
    "    # GET PHI VALUES USING ONLY VALUES IN EACH PATCH\n",
    "    patch_phis = []\n",
    "    for n in range(n_patches):\n",
    "        patch_indices = np.where(labels == n)\n",
    "        patch_M = rest_mag_list[patch_indices]\n",
    "        patch_Vmax = Vmax_list[patch_indices] / n_patches\n",
    "        mid_M_list, M_err_list, phi_list = get_binned_phi(\n",
    "            patch_M, patch_Vmax, n_mag_bins)\n",
    "        patch_phis.append(phi_list)\n",
    "\n",
    "    # STANDARD ERRORS ON PHI VALUES BETWEEN EACH PATCH\n",
    "    phi_err_list = np.std(patch_phis, axis=0)\n",
    "\n",
    "    return phi_err_list"
   ]
  },
  {
   "cell_type": "code",
   "execution_count": 15,
   "metadata": {
    "ExecuteTime": {
     "end_time": "2020-08-14T23:17:53.107544Z",
     "start_time": "2020-08-14T23:17:53.090140Z"
    }
   },
   "outputs": [
    {
     "data": {
      "text/plain": [
       "array([4.85075252e-09, 0.00000000e+00, 1.95163685e-08, 0.00000000e+00,\n",
       "       8.08458753e-09])"
      ]
     },
     "execution_count": 15,
     "metadata": {},
     "output_type": "execute_result"
    }
   ],
   "source": [
    "get_binned_phi_error(np.array([-18, -19, -19, -19, -18, -19, -20]),\n",
    "                     np.array([3e8, 4e8, 5e8, 4e8, 5e8, 4e8, 5e8]),\n",
    "                     np.array([1, 1, 2, 2, 3, 3, 1]), 3, 5)"
   ]
  },
  {
   "cell_type": "markdown",
   "metadata": {},
   "source": [
    "### Model Luminosity Function \n",
    "\n",
    "#### Schechter Function\n",
    "\n",
    "$$\\phi(M) = \\frac{2}{5}\\ln(10)e^{-10^{\\frac{2}{5}(M_{*}-M)}}\\left( \\phi^{*}10^{\\frac{2}{5}(M_{*}-M)(\\alpha+1)}\\right)$$"
   ]
  },
  {
   "cell_type": "code",
   "execution_count": 16,
   "metadata": {
    "ExecuteTime": {
     "end_time": "2020-08-14T23:17:53.125188Z",
     "start_time": "2020-08-14T23:17:53.111060Z"
    }
   },
   "outputs": [],
   "source": [
    "# SCHECHTER PHI FROM REST-FRAME MAG AND 3 FREE PARAMETERS OF MODEL\n",
    "def SchechterMagModel(M_list, M_star, phi_star, alpha):\n",
    "    \"\"\"\n",
    "    Arguments:\n",
    "    (1) numpy array of magnitudes (i.e. x)\n",
    "    (2) float value of parameter M_star \n",
    "    (3) float value of parameter phi_star\n",
    "    (4) float value of parameter alpha\n",
    "    Return: \n",
    "    (1) numpy array of Schechter modelled phi (i.e. y)\n",
    "    \"\"\"\n",
    "\n",
    "    # FACTOR\n",
    "    factor = (2 / 5) * np.log(10)\n",
    "\n",
    "    # POWER\n",
    "    Mstar_Mlist = M_star - M_list\n",
    "    power = (2 / 5) * Mstar_Mlist\n",
    "\n",
    "    # PART 1\n",
    "    power1 = -10**(power)\n",
    "    part1 = np.exp(power1)\n",
    "\n",
    "    # PART 2\n",
    "    index = alpha + 1\n",
    "    power2 = power * index\n",
    "    part2 = phi_star * 10**(power2)\n",
    "\n",
    "    # PHI(M)\n",
    "    phi_list = factor * part1 * part2\n",
    "\n",
    "    return phi_list"
   ]
  },
  {
   "cell_type": "code",
   "execution_count": 17,
   "metadata": {
    "ExecuteTime": {
     "end_time": "2020-08-14T23:17:53.146092Z",
     "start_time": "2020-08-14T23:17:53.130047Z"
    }
   },
   "outputs": [
    {
     "data": {
      "text/plain": [
       "array([2.76127225e-20, 5.98436064e-13, 1.04045498e-08, 3.01534183e-06,\n",
       "       8.32068891e-05, 5.94810994e-04, 1.95735209e-03, 4.12510635e-03,\n",
       "       6.73048344e-03, 9.48009623e-03, 1.22718071e-02, 1.51335765e-02,\n",
       "       1.81500052e-02, 2.14221579e-02])"
      ]
     },
     "execution_count": 17,
     "metadata": {},
     "output_type": "execute_result"
    }
   ],
   "source": [
    "SchechterMagModel(\n",
    "    np.array([\n",
    "        -24.69729828, -24.0952858, -23.49327332, -22.89126084, -22.28924836,\n",
    "        -21.68723587, -21.08522339, -20.48321091, -19.88119843, -19.27918595,\n",
    "        -18.67717347, -18.07516099, -17.4731485, -16.87113602\n",
    "    ]), -20.71, 10**(-2.02), -1.26)"
   ]
  },
  {
   "cell_type": "markdown",
   "metadata": {},
   "source": [
    "#### Double Schechter Function\n",
    "\n",
    "$$\\phi(M) = \\frac{2}{5}\\ln(10)e^{-10^{\\frac{2}{5}(M_{*}-M)}}\\left[\\left( \\phi_{1}^{*}10^{\\frac{2}{5}(M_{*}-M)(\\alpha_{1}+1)}\\right)+\\left( \\phi_{2}^{*}10^{\\frac{2}{5}(M_{*}-M)(\\alpha_{2}+1)}\\right)\\right]$$"
   ]
  },
  {
   "cell_type": "code",
   "execution_count": 18,
   "metadata": {
    "ExecuteTime": {
     "end_time": "2020-08-14T23:17:53.163360Z",
     "start_time": "2020-08-14T23:17:53.149901Z"
    }
   },
   "outputs": [],
   "source": [
    "def DoubleSchechterMagModel(M_list, M_star, phi_star1, alpha1, phi_star2,\n",
    "                            alpha2):\n",
    "    \"\"\"\n",
    "    Arguments:\n",
    "    (1) numpy array of magnitudes (i.e. x)\n",
    "    (2) float value of parameter M_star \n",
    "    (3) float value of parameter phi_star_1\n",
    "    (4) float value of parameter alpha_1\n",
    "    (5) float value of parameter phi_star_2\n",
    "    (6) float value of parameter alpha_2\n",
    "    Return: \n",
    "    (1) numpy array of Double Schechter modelled phi (i.e. y)\n",
    "    \"\"\"\n",
    "\n",
    "    # FACTOR\n",
    "    factor = (2 / 5) * np.log(10)\n",
    "\n",
    "    # POWER\n",
    "    Mstar_Mlist = M_star - M_list\n",
    "    power = (2 / 5) * Mstar_Mlist\n",
    "\n",
    "    # PART 1\n",
    "    power1 = -10**(power)\n",
    "    part1 = np.exp(power1)\n",
    "\n",
    "    # PART 2\n",
    "    index1 = alpha1 + 1\n",
    "    power2 = power * index1\n",
    "    part2 = phi_star1 * 10**(power2)\n",
    "\n",
    "    # PART 3\n",
    "    index2 = alpha2 + 1\n",
    "    power3 = power * index2\n",
    "    part3 = phi_star2 * 10**(power3)\n",
    "\n",
    "    # PHI(M)\n",
    "    phi_list = factor * part1 * (part2 + part3)\n",
    "\n",
    "    return phi_list"
   ]
  },
  {
   "cell_type": "code",
   "execution_count": 19,
   "metadata": {
    "ExecuteTime": {
     "end_time": "2020-08-14T23:17:53.184047Z",
     "start_time": "2020-08-14T23:17:53.167021Z"
    }
   },
   "outputs": [
    {
     "data": {
      "text/plain": [
       "0.02157964300345554"
      ]
     },
     "execution_count": 19,
     "metadata": {},
     "output_type": "execute_result"
    }
   ],
   "source": [
    "DoubleSchechterMagModel(-19, -20.71, 0.00955, -1.26, 0.009, -1.3)"
   ]
  },
  {
   "cell_type": "markdown",
   "metadata": {},
   "source": [
    "### Goodness of Fit\n",
    "#### $\\chi^{2}$\n",
    "$$\\chi^{2} = \\sum_{i}\\left(\\frac{O_{i}-C_{i}}{\\sigma_{i}}\\right)^{2}$$\n",
    "\n",
    "#### Degrees of freedom, $\\nu$\n",
    "$$\\nu =  n - m $$\n",
    "where $n$ is the number of observations $O_{i}$, and $m$ is the number of parameters used to fit $C_{i}$.\n",
    "\n",
    "#### Reduced $\\chi^{2}$\n",
    "$$\\chi_{\\nu}^{2} = \\frac{\\chi^{2}}{\\nu}$$"
   ]
  },
  {
   "cell_type": "code",
   "execution_count": 20,
   "metadata": {
    "ExecuteTime": {
     "end_time": "2020-08-14T23:17:53.202466Z",
     "start_time": "2020-08-14T23:17:53.190045Z"
    }
   },
   "outputs": [],
   "source": [
    "# REDUCED CHI SQUARED GOODNESS OF FIT PARAMETER\n",
    "def get_gof(obs, err, exp, m):\n",
    "    \"\"\"\n",
    "    Arguments:\n",
    "    (1) numpy array of observed values (phi from the 1/Vmax estimator)\n",
    "    (2) numpy array of errors on observed values\n",
    "    (3) numpy array of expected values (phi from the Schechter function)\n",
    "    (4) integer value of number of parameters used to calculate the expected values\n",
    "    Return: \n",
    "    (1) float value of reduced chi square\n",
    "    \"\"\"\n",
    "\n",
    "    residuals = obs - exp\n",
    "    rBYerr = residuals / err\n",
    "    rBYerr_sq = rBYerr**2\n",
    "    chi_sq = np.sum(rBYerr_sq)\n",
    "\n",
    "    dof = len(obs) - m\n",
    "\n",
    "    red_chi_sq = chi_sq / dof\n",
    "\n",
    "    return red_chi_sq"
   ]
  },
  {
   "cell_type": "code",
   "execution_count": 21,
   "metadata": {
    "ExecuteTime": {
     "end_time": "2020-08-14T23:17:53.223356Z",
     "start_time": "2020-08-14T23:17:53.205668Z"
    }
   },
   "outputs": [
    {
     "data": {
      "text/plain": [
       "1.002726586928289"
      ]
     },
     "execution_count": 21,
     "metadata": {},
     "output_type": "execute_result"
    }
   ],
   "source": [
    "get_gof(\n",
    "    np.array([\n",
    "        8.05551125e-07, 3.88006185e-06, 3.69629802e-05, 1.89598594e-04,\n",
    "        4.05468514e-04, 6.72676369e-04, 9.09832025e-04, 1.11367139e-03,\n",
    "        1.48211046e-03, 2.49173629e-03, 3.51558199e-03, 3.72147189e-03,\n",
    "        5.01716103e-03, 7.55817685e-03\n",
    "    ]),\n",
    "    np.array([\n",
    "        2.61759783e-07, 1.25718317e-06, 9.52799069e-06, 3.89147050e-05,\n",
    "        8.49777323e-05, 1.39651245e-04, 2.00190843e-04, 2.57083205e-04,\n",
    "        3.95215518e-04, 6.88821910e-04, 1.10196321e-03, 1.17736050e-03,\n",
    "        1.39659137e-03, 2.17712916e-03\n",
    "    ]),\n",
    "    np.array([\n",
    "        1.61215514e-07, 5.04366709e-06, 4.02522675e-05, 1.46575206e-04,\n",
    "        3.40094001e-04, 6.09135865e-04, 9.40278126e-04, 1.33262944e-03,\n",
    "        1.79828886e-03, 2.35924799e-03, 3.04550799e-03, 3.89501555e-03,\n",
    "        4.95495910e-03, 6.28404405e-03\n",
    "    ]), 3)"
   ]
  },
  {
   "cell_type": "markdown",
   "metadata": {},
   "source": [
    "#### Best-fitting and plots"
   ]
  },
  {
   "cell_type": "code",
   "execution_count": 22,
   "metadata": {
    "ExecuteTime": {
     "end_time": "2020-08-14T23:17:53.248560Z",
     "start_time": "2020-08-14T23:17:53.227901Z"
    }
   },
   "outputs": [],
   "source": [
    "# BEST FIT SCHECHTER PHI AND REDUCED CHI SQUARED ESTIMATE\n",
    "\n",
    "\n",
    "def get_schechter_phi(M_list,\n",
    "                      M_err_list,\n",
    "                      phi_list,\n",
    "                      phi_err_list,\n",
    "                      guesses,\n",
    "                      plot_savename='none'):\n",
    "    \"\"\"\n",
    "    Arguments:\n",
    "    (1) numpy array of mid magnitude (i.e. x) value of each bin\n",
    "    (2) numpy array of magnitudes error (i.e. x-error) value of each bin\n",
    "    (3) numpy array of phi (i.e. y) value of each bin\n",
    "    (4) numpy array of phi error (i.e. y-error) value of each bin\n",
    "    (5) numpy array of Schechter paramater guesses in order [M_star, phi_star, aplha]\n",
    "    (6) string with name and extension to save plot as\n",
    "    Return:\n",
    "    (1) numpy array of Schechter modelled phi (i.e. y)\n",
    "    (2) float value of reduced chi square of the fit\n",
    "    (3) float value of fit parameter M_star \n",
    "    (4) float value of error on fit parameter M_star\n",
    "    (5) float value of fit parameter phi_star\n",
    "    (6) float value of error on fit parameter phi_star\n",
    "    (7) float value of fit parameter alpha\n",
    "    (8) float value of error on fit parameter alpha\n",
    "    \"\"\"\n",
    "\n",
    "    popt, pcov = curve_fit(SchechterMagModel,\n",
    "                           M_list,\n",
    "                           phi_list,\n",
    "                           p0=guesses,\n",
    "                           sigma=phi_err_list)\n",
    "\n",
    "    perr = np.sqrt(np.diag(pcov))\n",
    "\n",
    "    M_star = popt[0]\n",
    "    M_star_err = perr[0]\n",
    "    phi_star = popt[1]\n",
    "    phi_star_err = perr[1]\n",
    "    alpha = popt[2]\n",
    "    alpha_err = perr[2]\n",
    "\n",
    "    model_phi_list = SchechterMagModel(M_list, M_star, phi_star, alpha)\n",
    "\n",
    "    m = 3\n",
    "    red_chi_sq = get_gof(phi_list, phi_err_list, model_phi_list, m)\n",
    "\n",
    "    if plot_savename != 'none':\n",
    "\n",
    "        plt.figure(figsize=(10, 10))\n",
    "\n",
    "        # plot data\n",
    "        plt.errorbar(M_list,\n",
    "                     phi_list,\n",
    "                     xerr=M_err_list,\n",
    "                     yerr=phi_err_list,\n",
    "                     fmt='cx',\n",
    "                     mec='k',\n",
    "                     label='Survey data')\n",
    "\n",
    "        # plot model\n",
    "        plt.plot(\n",
    "            M_list,\n",
    "            model_phi_list,\n",
    "            'b--',\n",
    "            label='Schechter, alpha: {0:.4f} $\\pm$ {1:.4f}, $\\chi^{2}$: {3:.4f}'\n",
    "            .format(alpha, alpha_err, 2, red_chi_sq))\n",
    "\n",
    "        # plot turning point\n",
    "        plt.errorbar(\n",
    "            M_star,\n",
    "            phi_star,\n",
    "            xerr=M_star_err,\n",
    "            yerr=phi_star_err,\n",
    "            fmt='b*',\n",
    "            mec='c',\n",
    "            label=\n",
    "            '$M^{0}$: {1:.4f} $\\pm$ {2:.4f}, $\\phi^{3}$: {4:.4f} $\\pm$ {5:.4f}'\n",
    "            .format('*', M_star, M_star_err, '*', phi_star, phi_star_err))\n",
    "\n",
    "        plt.yscale('log')\n",
    "        # plt.xlim(-26, -12)\n",
    "        # plt.ylim(1e-8, 0.9)\n",
    "        plt.xlabel(\"rest-frame r-magnitude/ $(M_{r})_{cal}$/ mag\", fontsize=20)\n",
    "        plt.ylabel(\n",
    "            \"number density / $\\Phi (M_{r})/ h_{70}^{3}Mpc^{-3}mag^{-1}$\",\n",
    "            fontsize=20)\n",
    "        # plt.title(title, fontsize=20)\n",
    "        plt.grid(True)\n",
    "        plt.legend(loc='upper left')\n",
    "\n",
    "        plt.savefig(plot_savename, dpi=300)\n",
    "\n",
    "        plt.show()\n",
    "\n",
    "    return model_phi_list, red_chi_sq, M_star, M_star_err, phi_star, phi_star_err, alpha, alpha_err"
   ]
  },
  {
   "cell_type": "code",
   "execution_count": 23,
   "metadata": {
    "ExecuteTime": {
     "end_time": "2020-08-14T23:17:54.787709Z",
     "start_time": "2020-08-14T23:17:53.255538Z"
    }
   },
   "outputs": [
    {
     "data": {
      "image/png": "[encoded data removed]",
      "text/plain": [
       "<Figure size 720x720 with 1 Axes>"
      ]
     },
     "metadata": {
      "needs_background": "light"
     },
     "output_type": "display_data"
    },
    {
     "data": {
      "text/plain": [
       "(array([1.61215514e-07, 5.04366709e-06, 4.02522675e-05, 1.46575206e-04,\n",
       "        3.40094001e-04, 6.09135865e-04, 9.40278126e-04, 1.33262944e-03,\n",
       "        1.79828886e-03, 2.35924799e-03, 3.04550799e-03, 3.89501555e-03,\n",
       "        4.95495910e-03, 6.28404405e-03]),\n",
       " 1.0027265882003165,\n",
       " -22.503720321424872,\n",
       " 0.09432695752449195,\n",
       " 0.000772050032397016,\n",
       " 0.00015469515652665115,\n",
       " -1.421095921941838,\n",
       " 0.05904809451072723)"
      ]
     },
     "execution_count": 23,
     "metadata": {},
     "output_type": "execute_result"
    }
   ],
   "source": [
    "get_schechter_phi(\n",
    "    np.array([\n",
    "        -24.69729828, -24.0952858, -23.49327332, -22.89126084, -22.28924836,\n",
    "        -21.68723587, -21.08522339, -20.48321091, -19.88119843, -19.27918595,\n",
    "        -18.67717347, -18.07516099, -17.4731485, -16.87113602\n",
    "    ]),\n",
    "    np.array([\n",
    "        0.30100624, 0.30100624, 0.30100624, 0.30100624, 0.30100624, 0.30100624,\n",
    "        0.30100624, 0.30100624, 0.30100624, 0.30100624, 0.30100624, 0.30100624,\n",
    "        0.30100624, 0.30100624\n",
    "    ]),\n",
    "    np.array([\n",
    "        8.05551125e-07, 3.88006185e-06, 3.69629802e-05, 1.89598594e-04,\n",
    "        4.05468514e-04, 6.72676369e-04, 9.09832025e-04, 1.11367139e-03,\n",
    "        1.48211046e-03, 2.49173629e-03, 3.51558199e-03, 3.72147189e-03,\n",
    "        5.01716103e-03, 7.55817685e-03\n",
    "    ]),\n",
    "    np.array([\n",
    "        2.61759783e-07, 1.25718317e-06, 9.52799069e-06, 3.89147050e-05,\n",
    "        8.49777323e-05, 1.39651245e-04, 2.00190843e-04, 2.57083205e-04,\n",
    "        3.95215518e-04, 6.88821910e-04, 1.10196321e-03, 1.17736050e-03,\n",
    "        1.39659137e-03, 2.17712916e-03\n",
    "    ]),\n",
    "    np.array([-20.71, 10**(-2.02), -1.26]),\n",
    "    plot_savename='test.png')"
   ]
  },
  {
   "cell_type": "markdown",
   "metadata": {},
   "source": []
  }
 ],
 "metadata": {
  "kernelspec": {
   "display_name": "Python 3",
   "language": "python",
   "name": "python3"
  },
  "language_info": {
   "codemirror_mode": {
    "name": "ipython",
    "version": 3
   },
   "file_extension": ".py",
   "mimetype": "text/x-python",
   "name": "python",
   "nbconvert_exporter": "python",
   "pygments_lexer": "ipython3",
   "version": "3.7.6"
  },
  "toc": {
   "base_numbering": 1,
   "nav_menu": {},
   "number_sections": true,
   "sideBar": true,
   "skip_h1_title": false,
   "title_cell": "Table of Contents",
   "title_sidebar": "Contents",
   "toc_cell": false,
   "toc_position": {
    "height": "calc(100% - 180px)",
    "left": "10px",
    "top": "150px",
    "width": "326.984375px"
   },
   "toc_section_display": true,
   "toc_window_display": false
  }
 },
 "nbformat": 4,
 "nbformat_minor": 2
}
