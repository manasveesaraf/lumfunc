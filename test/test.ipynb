{
 "cells": [
  {
   "cell_type": "code",
   "execution_count": 1,
   "metadata": {
    "ExecuteTime": {
     "end_time": "2020-08-24T17:09:53.702332Z",
     "start_time": "2020-08-24T17:09:52.118950Z"
    }
   },
   "outputs": [],
   "source": [
    "import numpy as np\n",
    "import pandas as pd\n",
    "import lumfunc as lf"
   ]
  },
  {
   "cell_type": "code",
   "execution_count": 2,
   "metadata": {
    "ExecuteTime": {
     "end_time": "2020-08-24T17:09:53.727028Z",
     "start_time": "2020-08-24T17:09:53.705297Z"
    }
   },
   "outputs": [],
   "source": [
    "# UNPACK DATA\n",
    "# Data is usually catalogued in a .fits file - .csv test file is used here for simplicity\n",
    "\n",
    "data_table = pd.read_csv('test_catalogue.csv')\n",
    "\n",
    "ID_list = np.array(data_table['ID'])\n",
    "\n",
    "RA_list = np.array(data_table['RA'])\n",
    "Dec_list = np.array(data_table['Dec'])\n",
    "\n",
    "u_app_mag_list = np.array(data_table['u_mag'])\n",
    "u_app_mag_err_list = np.array(data_table['u_mag_err'])\n",
    "g_app_mag_list = np.array(data_table['g_mag'])\n",
    "g_app_mag_err_list = np.array(data_table['g_mag_err'])\n",
    "r_app_mag_list = np.array(data_table['r_mag'])\n",
    "r_app_mag_err_list = np.array(data_table['r_mag_err'])\n",
    "i_app_mag_list = np.array(data_table['i_mag'])\n",
    "i_app_mag_err_list = np.array(data_table['i_mag_err'])\n",
    "Z_app_mag_list = np.array(data_table['Z_mag'])\n",
    "Z_app_mag_err_list = np.array(data_table['Z_mag_err'])\n",
    "Y_app_mag_list = np.array(data_table['Y_mag'])\n",
    "Y_app_mag_err_list = np.array(data_table['Y_mag_err'])\n",
    "J_app_mag_list = np.array(data_table['J_mag'])\n",
    "J_app_mag_err_list = np.array(data_table['J_mag_err'])\n",
    "H_app_mag_list = np.array(data_table['H_mag'])\n",
    "H_app_mag_err_list = np.array(data_table['H_mag_err'])\n",
    "K_app_mag_list = np.array(data_table['K_mag'])\n",
    "K_app_mag_err_list = np.array(data_table['K_mag_err'])\n",
    "\n",
    "z_photo_list = np.array(data_table['z_photo'])\n",
    "z_spec_list = np.array(data_table['z_spec'])"
   ]
  },
  {
   "cell_type": "code",
   "execution_count": 3,
   "metadata": {
    "ExecuteTime": {
     "end_time": "2020-08-24T17:09:53.737249Z",
     "start_time": "2020-08-24T17:09:53.729166Z"
    }
   },
   "outputs": [
    {
     "name": "stdout",
     "output_type": "stream",
     "text": [
      "[2.17126084e-08 1.88972757e-08 9.39864400e-09 3.74726494e-08]\n"
     ]
    }
   ],
   "source": [
    "r_maggies_list = lf.get_maggy(r_app_mag_list)\n",
    "print(r_maggies_list[0:4])"
   ]
  },
  {
   "cell_type": "code",
   "execution_count": 4,
   "metadata": {
    "ExecuteTime": {
     "end_time": "2020-08-24T17:09:53.756594Z",
     "start_time": "2020-08-24T17:09:53.740802Z"
    }
   },
   "outputs": [
    {
     "data": {
      "text/plain": [
       "array([2.17126084e-08, 1.88972757e-08, 9.39864400e-09, 3.74726494e-08])"
      ]
     },
     "execution_count": 4,
     "metadata": {},
     "output_type": "execute_result"
    }
   ],
   "source": [
    "lf.get_maggy(np.array([19.15822, 19.309002, 20.067337, 18.565714]))"
   ]
  },
  {
   "cell_type": "code",
   "execution_count": 5,
   "metadata": {
    "ExecuteTime": {
     "end_time": "2020-08-24T17:09:53.790053Z",
     "start_time": "2020-08-24T17:09:53.768834Z"
    }
   },
   "outputs": [
    {
     "name": "stdout",
     "output_type": "stream",
     "text": [
      "[2.61353653e+20 2.21539925e+20 2.63295704e+20 1.52030876e+20]\n"
     ]
    }
   ],
   "source": [
    "r_maggy_inv_var_list = lf.get_maggy_inv_var(r_maggies_list, r_app_mag_err_list)\n",
    "print(r_maggy_inv_var_list[0:4])"
   ]
  },
  {
   "cell_type": "code",
   "execution_count": 6,
   "metadata": {
    "ExecuteTime": {
     "end_time": "2020-08-24T17:09:53.822010Z",
     "start_time": "2020-08-24T17:09:53.806713Z"
    }
   },
   "outputs": [
    {
     "data": {
      "text/plain": [
       "array([2.61353484e+20, 2.21540499e+20, 2.63295631e+20, 1.52031005e+20])"
      ]
     },
     "execution_count": 6,
     "metadata": {},
     "output_type": "execute_result"
    }
   ],
   "source": [
    "lf.get_maggy_inv_var(\n",
    "    np.array([2.17126084e-08, 1.88972757e-08, 9.39864400e-09, 3.74726494e-08]),\n",
    "    np.array([0.00309313, 0.0038601, 0.0071193, 0.00234987]))"
   ]
  },
  {
   "cell_type": "code",
   "execution_count": 7,
   "metadata": {
    "ExecuteTime": {
     "end_time": "2020-08-24T17:09:53.838923Z",
     "start_time": "2020-08-24T17:09:53.828770Z"
    }
   },
   "outputs": [],
   "source": [
    "maggy_ratios_table = pd.read_csv('test_maggy_ratios.csv', delimiter=' ')\n",
    "r_maggy_ratio_list = np.array(maggy_ratios_table['maggy_ratio'])"
   ]
  },
  {
   "cell_type": "code",
   "execution_count": 8,
   "metadata": {
    "ExecuteTime": {
     "end_time": "2020-08-24T17:09:53.885054Z",
     "start_time": "2020-08-24T17:09:53.845387Z"
    }
   },
   "outputs": [
    {
     "name": "stdout",
     "output_type": "stream",
     "text": [
      "\tLuminosity distance calculated.\n",
      "\tAbsolute magnitude calculated.\n",
      "\tK-corrections calculated.\n",
      "\tRest-frame magnitude calculated.\n",
      "[-22.50048222 -20.3671756  -23.61190368 -23.75133511]\n"
     ]
    }
   ],
   "source": [
    "# need to add kcorrect functions to get maggy_ratio_list and test:\n",
    "r_rest_mag_list = lf.get_rest_mag(z_photo_list, r_app_mag_list,\n",
    "                                  r_maggy_ratio_list)\n",
    "print(r_rest_mag_list[0:4])"
   ]
  },
  {
   "cell_type": "code",
   "execution_count": 9,
   "metadata": {
    "ExecuteTime": {
     "end_time": "2020-08-24T17:09:53.902193Z",
     "start_time": "2020-08-24T17:09:53.889266Z"
    }
   },
   "outputs": [
    {
     "name": "stdout",
     "output_type": "stream",
     "text": [
      "\tLuminosity distance calculated.\n",
      "\tAbsolute magnitude calculated.\n",
      "\tK-corrections calculated.\n",
      "\tRest-frame magnitude calculated.\n"
     ]
    },
    {
     "data": {
      "text/plain": [
       "array([-22.50048222, -20.3671756 , -23.61190369, -23.75133512])"
      ]
     },
     "execution_count": 9,
     "metadata": {},
     "output_type": "execute_result"
    }
   ],
   "source": [
    "lf.get_rest_mag(np.array([0.34, 0.17, 0.61, 0.41]),\n",
    "                np.array([19.15822, 19.309002, 20.067337, 18.565714]),\n",
    "                np.array([0.69938735, 0.90226577, 0.43780755, 0.59193305]))"
   ]
  },
  {
   "cell_type": "code",
   "execution_count": 10,
   "metadata": {
    "ExecuteTime": {
     "end_time": "2020-08-24T17:09:53.923461Z",
     "start_time": "2020-08-24T17:09:53.910675Z"
    }
   },
   "outputs": [],
   "source": [
    "zmax_table = pd.read_csv('test_zmax.csv', delimiter=' ')\n",
    "z_max_list = np.array(zmax_table['zmax'])"
   ]
  },
  {
   "cell_type": "code",
   "execution_count": 11,
   "metadata": {
    "ExecuteTime": {
     "end_time": "2020-08-24T17:09:53.954092Z",
     "start_time": "2020-08-24T17:09:53.930168Z"
    }
   },
   "outputs": [
    {
     "name": "stdout",
     "output_type": "stream",
     "text": [
      "\tComoving distance calculated.\n",
      "\tSurvey area converted.\n",
      "\tComoving volume calculated.\n",
      "[1756716.17902236  178625.22666027 2447025.54638078 2287569.96087901]\n"
     ]
    }
   ],
   "source": [
    "survey_area = 2.5 #sq. degrees\n",
    "Vmax_list = lf.get_volume(survey_area, z_max_list)\n",
    "print(Vmax_list[:4])"
   ]
  },
  {
   "cell_type": "code",
   "execution_count": 12,
   "metadata": {
    "ExecuteTime": {
     "end_time": "2020-08-24T17:09:53.974087Z",
     "start_time": "2020-08-24T17:09:53.961414Z"
    }
   },
   "outputs": [
    {
     "name": "stdout",
     "output_type": "stream",
     "text": [
      "\tComoving distance calculated.\n",
      "\tSurvey area converted.\n",
      "\tComoving volume calculated.\n"
     ]
    },
    {
     "data": {
      "text/plain": [
       "array([1756716.14859094,  178625.22895137, 2447025.56779186,\n",
       "       2287569.99514156])"
      ]
     },
     "execution_count": 12,
     "metadata": {},
     "output_type": "execute_result"
    }
   ],
   "source": [
    "lf.get_volume(2.5, np.array([0.50523681, 0.21884399, 0.57489149, 0.55985663]))"
   ]
  },
  {
   "cell_type": "code",
   "execution_count": 13,
   "metadata": {
    "ExecuteTime": {
     "end_time": "2020-08-24T17:09:54.003908Z",
     "start_time": "2020-08-24T17:09:53.985349Z"
    }
   },
   "outputs": [
    {
     "name": "stdout",
     "output_type": "stream",
     "text": [
      "[-25.1487769  -23.86987184 -22.59096677 -21.31206171 -20.03315665\n",
      " -18.75425159 -17.47534652 -16.19644146 -14.9175364  -13.63863134]\n",
      "[0.63945253 0.63945253 0.63945253 0.63945253 0.63945253 0.63945253\n",
      " 0.63945253 0.63945253 0.63945253 0.63945253]\n",
      "[2.78118218e+02 2.54476157e+02 6.57347457e-05 1.98257155e-04\n",
      " 4.84943102e-04 1.02149157e-03 1.49165665e-03 4.54012724e-03\n",
      " 5.08195775e-03 6.14432455e-02]\n"
     ]
    }
   ],
   "source": [
    "n_bins = 10\n",
    "M_list, M_err_list, phi_list = lf.get_binned_phi(r_rest_mag_list, Vmax_list,\n",
    "                                                 n_bins)\n",
    "print(M_list)\n",
    "print(M_err_list)\n",
    "print(phi_list)"
   ]
  },
  {
   "cell_type": "code",
   "execution_count": 14,
   "metadata": {
    "ExecuteTime": {
     "end_time": "2020-08-24T17:09:54.024604Z",
     "start_time": "2020-08-24T17:09:54.010165Z"
    }
   },
   "outputs": [
    {
     "data": {
      "text/plain": [
       "(array([-22.5, -21.5, -20.5, -19.5]),\n",
       " array([0.5, 0.5, 0.5, 0.5]),\n",
       " array([1.06411667e-08, 1.02900000e-08, 0.00000000e+00, 1.32300000e-07]))"
      ]
     },
     "execution_count": 14,
     "metadata": {},
     "output_type": "execute_result"
    }
   ],
   "source": [
    "lf.get_binned_phi(\n",
    "    np.array([-23, -21, -19, -22, -23, -23, -22, -23, -22, -22, -19, -21]),\n",
    "    np.array([\n",
    "        8e+08, 2e+08, 2e+07, 3e+08, 6e+08, 6e+08, 4e+08, 7e+08, 5e+08, 6e+08,\n",
    "        7e+06, 1e+08\n",
    "    ]), 4)"
   ]
  },
  {
   "cell_type": "code",
   "execution_count": 15,
   "metadata": {
    "ExecuteTime": {
     "end_time": "2020-08-24T17:09:54.053231Z",
     "start_time": "2020-08-24T17:09:54.031137Z"
    }
   },
   "outputs": [
    {
     "name": "stdout",
     "output_type": "stream",
     "text": [
      "X (100, 2)  centers (10, 2)  tol=0.1  maxiter=100\n",
      "3 iterations  cluster sizes: [ 3 16  6 12  7 21 10  4  4 17]\n",
      "X (662, 2)  centers (10, 2)  tol=0.1  maxiter=100\n",
      "2 iterations  cluster sizes: [ 60  87  63  56  51 142  53  37  25  88]\n",
      "[[ 2.23327036e+02  9.34246288e-01]\n",
      " [ 2.23206173e+02  1.45335801e+00]\n",
      " [ 2.23236705e+02 -1.03073233e+00]\n",
      " [ 2.23215795e+02 -6.16518478e-01]\n",
      " [ 2.23248144e+02  2.05305519e-01]\n",
      " [ 2.23222701e+02  2.35815720e+00]\n",
      " [ 2.23237113e+02 -2.29258669e-01]\n",
      " [ 2.23080716e+02  7.26811779e-01]\n",
      " [ 2.23306655e+02  5.53063123e-01]\n",
      " [ 2.23205742e+02 -1.62611134e+00]]\n"
     ]
    }
   ],
   "source": [
    "n_patches = 10\n",
    "centers_array = lf.get_patch_centers(RA_list,\n",
    "                                     Dec_list,\n",
    "                                     n_patches,\n",
    "                                     survey='kids',\n",
    "                                     max_iterations=int(100),\n",
    "                                     tolerance=1.0e-1)\n",
    "print(centers_array)"
   ]
  },
  {
   "cell_type": "code",
   "execution_count": 16,
   "metadata": {
    "ExecuteTime": {
     "end_time": "2020-08-24T17:09:54.087333Z",
     "start_time": "2020-08-24T17:09:54.060931Z"
    }
   },
   "outputs": [
    {
     "name": "stdout",
     "output_type": "stream",
     "text": [
      "X (20, 2)  centers (2, 2)  tol=0.1  maxiter=100\n",
      "3 iterations  cluster sizes: [14  6]\n",
      "X (24, 2)  centers (2, 2)  tol=0.1  maxiter=100\n",
      "3 iterations  cluster sizes: [16  8]\n"
     ]
    },
    {
     "data": {
      "text/plain": [
       "array([[21.12543508, 21.50181442],\n",
       "       [20.74998572, 20.00192835]])"
      ]
     },
     "execution_count": 16,
     "metadata": {},
     "output_type": "execute_result"
    }
   ],
   "source": [
    "lf.get_patch_centers(np.array([\n",
    "    20, 21, 22, 20, 22, 20, 21, 21, 22, 20, 21, 22, 20, 22, 20, 21, 22, 20, 21,\n",
    "    22, 21, 22, 20, 21\n",
    "]),\n",
    "                     np.array([\n",
    "                         20, 22, 20, 21, 22, 20, 21, 22, 21, 22, 20, 21, 20,\n",
    "                         21, 22, 20, 22, 20, 21, 21, 22, 20, 21, 22\n",
    "                     ]),\n",
    "                     2,\n",
    "                     survey='kids',\n",
    "                     max_iterations=int(100),\n",
    "                     tolerance=1.0e-1)"
   ]
  },
  {
   "cell_type": "code",
   "execution_count": 17,
   "metadata": {
    "ExecuteTime": {
     "end_time": "2020-08-24T17:09:55.035103Z",
     "start_time": "2020-08-24T17:09:54.092351Z"
    }
   },
   "outputs": [
    {
     "data": {
      "image/png": "[encoded data removed]",
      "text/plain": [
       "<Figure size 720x720 with 2 Axes>"
      ]
     },
     "metadata": {
      "needs_background": "light"
     },
     "output_type": "display_data"
    },
    {
     "name": "stdout",
     "output_type": "stream",
     "text": [
      "[0 9 1 3]\n"
     ]
    }
   ],
   "source": [
    "labels = lf.get_patch_labels(RA_list,\n",
    "                             Dec_list,\n",
    "                             n_patches,\n",
    "                             centers_array,\n",
    "                             survey='kids',\n",
    "                             numba_installed=True,\n",
    "                             plot_savename='test_patches.png')\n",
    "print(labels[:4])"
   ]
  },
  {
   "cell_type": "code",
   "execution_count": 18,
   "metadata": {
    "ExecuteTime": {
     "end_time": "2020-08-24T17:09:56.336875Z",
     "start_time": "2020-08-24T17:09:55.038989Z"
    }
   },
   "outputs": [
    {
     "data": {
      "image/png": "[encoded data removed]",
      "text/plain": [
       "<Figure size 720x720 with 2 Axes>"
      ]
     },
     "metadata": {
      "needs_background": "light"
     },
     "output_type": "display_data"
    },
    {
     "data": {
      "text/plain": [
       "array([0, 0, 2, 0, 0, 2])"
      ]
     },
     "execution_count": 18,
     "metadata": {},
     "output_type": "execute_result"
    }
   ],
   "source": [
    "lf.get_patch_labels(np.array([20, 21, 22, 20, 21, 22]),\n",
    "                    np.array([20, 21, 22, 20, 21, 22]),\n",
    "                    3,\n",
    "                    np.array([[20, 21], [22, 20], [21, 22], [20, 21], [22, 20],\n",
    "                              [21, 22]]),\n",
    "                    survey='kids',\n",
    "                    numba_installed=True,\n",
    "                    plot_savename='test2_patches.png')"
   ]
  },
  {
   "cell_type": "code",
   "execution_count": 19,
   "metadata": {
    "ExecuteTime": {
     "end_time": "2020-08-24T17:09:56.361725Z",
     "start_time": "2020-08-24T17:09:56.342127Z"
    }
   },
   "outputs": [
    {
     "name": "stdout",
     "output_type": "stream",
     "text": [
      "[5.98716477e+02 5.32152273e+02 4.35877966e-05 2.34398874e-04\n",
      " 6.19301555e-04 3.62580328e-04 6.31354101e-04 4.72868263e-03\n",
      " 2.09231161e-03 1.60749239e-01]\n"
     ]
    }
   ],
   "source": [
    "phi_err_list = lf.get_binned_phi_error(r_rest_mag_list, Vmax_list, labels, n_patches,\n",
    "                                       n_bins)\n",
    "print(phi_err_list)"
   ]
  },
  {
   "cell_type": "code",
   "execution_count": 20,
   "metadata": {
    "ExecuteTime": {
     "end_time": "2020-08-24T17:09:56.401927Z",
     "start_time": "2020-08-24T17:09:56.373279Z"
    }
   },
   "outputs": [
    {
     "data": {
      "text/plain": [
       "array([9.86494122e-09, 9.90155712e-09, 0.00000000e+00, 1.55859031e-07])"
      ]
     },
     "execution_count": 20,
     "metadata": {},
     "output_type": "execute_result"
    }
   ],
   "source": [
    "lf.get_binned_phi_error(\n",
    "    np.array([-23, -21, -19, -22, -23, -23, -22, -23, -22, -22, -19, -21]),\n",
    "    np.array([\n",
    "        8e+08, 2e+08, 2e+07, 3e+08, 6e+08, 6e+08, 4e+08, 7e+08, 5e+08, 6e+08,\n",
    "        7e+06, 1e+08\n",
    "    ]), np.array([1, 1, 2, 2, 3, 0, 1, 1, 2, 2, 3, 3]), 4, 4)"
   ]
  },
  {
   "cell_type": "code",
   "execution_count": 21,
   "metadata": {
    "ExecuteTime": {
     "end_time": "2020-08-24T17:09:58.587698Z",
     "start_time": "2020-08-24T17:09:56.425232Z"
    }
   },
   "outputs": [
    {
     "data": {
      "image/png": "[encoded data removed]",
      "text/plain": [
       "<Figure size 720x720 with 1 Axes>"
      ]
     },
     "metadata": {
      "needs_background": "light"
     },
     "output_type": "display_data"
    }
   ],
   "source": [
    "M_list, M_err_list, Phi_list, Phi_err_list = lf.get_plot(\n",
    "    r_rest_mag_list,\n",
    "    Vmax_list,\n",
    "    n_bins,\n",
    "    RA_list,\n",
    "    Dec_list,\n",
    "    n_patches,\n",
    "    centers_array,\n",
    "    survey='kids',\n",
    "    numba_installed=True,\n",
    "    plot_savename='test_LF.png')"
   ]
  },
  {
   "cell_type": "code",
   "execution_count": 22,
   "metadata": {
    "ExecuteTime": {
     "end_time": "2020-08-24T17:09:59.767231Z",
     "start_time": "2020-08-24T17:09:58.593232Z"
    }
   },
   "outputs": [
    {
     "data": {
      "image/png": "[encoded data removed]",
      "text/plain": [
       "<Figure size 720x720 with 1 Axes>"
      ]
     },
     "metadata": {
      "needs_background": "light"
     },
     "output_type": "display_data"
    },
    {
     "data": {
      "text/plain": [
       "(array([-22.5, -21.5, -20.5, -19.5]),\n",
       " array([0.5, 0.5, 0.5, 0.5]),\n",
       " array([1.06411667e-08, 1.02900000e-08, 0.00000000e+00, 1.32300000e-07]),\n",
       " array([1.01898861e-08, 8.40174982e-09, 0.00000000e+00, 1.21812068e-07]))"
      ]
     },
     "execution_count": 22,
     "metadata": {},
     "output_type": "execute_result"
    }
   ],
   "source": [
    "lf.get_plot(\n",
    "    np.array([-23, -21, -19, -22, -23, -23, -22, -23, -22, -22, -19, -21]),\n",
    "    np.array([\n",
    "        8e+08, 2e+08, 2e+07, 3e+08, 6e+08, 6e+08, 4e+08, 7e+08, 5e+08, 6e+08,\n",
    "        7e+06, 1e+08\n",
    "    ]),\n",
    "    4,\n",
    "    np.array([20, 21, 22, 20, 21, 22, 20, 21, 22, 20, 21, 22]),\n",
    "    np.array([20, 21, 22, 20, 21, 22, 20, 21, 22, 20, 21, 22]),\n",
    "    3,\n",
    "    np.array([[20, 21], [22, 20], [21, 22], [20, 21], [22, 20], [21, 22],\n",
    "              [20, 21], [22, 20], [21, 22], [20, 21], [22, 20], [21, 22]]),\n",
    "    plot_savename='test2_LF.png')"
   ]
  },
  {
   "cell_type": "code",
   "execution_count": 23,
   "metadata": {
    "ExecuteTime": {
     "end_time": "2020-08-24T17:09:59.798758Z",
     "start_time": "2020-08-24T17:09:59.776212Z"
    }
   },
   "outputs": [
    {
     "name": "stdout",
     "output_type": "stream",
     "text": [
      "\tLuminosity distance calculated.\n",
      "\tAbsolute magnitude calculated.\n",
      "\tK-corrections calculated.\n",
      "\tRest-frame magnitude calculated.\n"
     ]
    }
   ],
   "source": [
    "g_rest_mag_list = lf.get_rest_mag(z_photo_list, g_app_mag_list,\n",
    "                                  r_maggy_ratio_list)"
   ]
  },
  {
   "cell_type": "code",
   "execution_count": 25,
   "metadata": {
    "ExecuteTime": {
     "end_time": "2020-08-24T17:10:09.356428Z",
     "start_time": "2020-08-24T17:10:09.339529Z"
    }
   },
   "outputs": [
    {
     "ename": "NameError",
     "evalue": "name 'plot_LF' is not defined",
     "output_type": "error",
     "traceback": [
      "\u001b[0;31m---------------------------------------------------------------------------\u001b[0m",
      "\u001b[0;31mNameError\u001b[0m                                 Traceback (most recent call last)",
      "\u001b[0;32m<ipython-input-25-bdfc07801760>\u001b[0m in \u001b[0;36m<module>\u001b[0;34m\u001b[0m\n\u001b[1;32m     14\u001b[0m     \u001b[0msurvey\u001b[0m\u001b[0;34m=\u001b[0m\u001b[0;34m'kids'\u001b[0m\u001b[0;34m,\u001b[0m\u001b[0;34m\u001b[0m\u001b[0;34m\u001b[0m\u001b[0m\n\u001b[1;32m     15\u001b[0m     \u001b[0mnumba_installed\u001b[0m\u001b[0;34m=\u001b[0m\u001b[0;32mTrue\u001b[0m\u001b[0;34m,\u001b[0m\u001b[0;34m\u001b[0m\u001b[0;34m\u001b[0m\u001b[0m\n\u001b[0;32m---> 16\u001b[0;31m     plot_savename='test_LF_colour.png')\n\u001b[0m",
      "\u001b[0;32m~/anaconda3/lib/python3.6/site-packages/lumfunc.py\u001b[0m in \u001b[0;36mfilter_plot_by_colour\u001b[0;34m(dichotomy_slope, dichotomy_intercept, rest_mag_list, higher_band_rest_mag_list, Vmax_list, n_mag_bins, RA_list, DEC_list, n_patches, center_guesses, survey, numba_installed, plot_savename)\u001b[0m\n\u001b[1;32m    602\u001b[0m \u001b[0;34m\u001b[0m\u001b[0m\n\u001b[1;32m    603\u001b[0m     \u001b[0;31m# all\u001b[0m\u001b[0;34m\u001b[0m\u001b[0;34m\u001b[0m\u001b[0;34m\u001b[0m\u001b[0m\n\u001b[0;32m--> 604\u001b[0;31m     M_list, M_err_list, phi_list, phi_err_list = plot_LF(\n\u001b[0m\u001b[1;32m    605\u001b[0m         \u001b[0mrest_mag_list\u001b[0m\u001b[0;34m,\u001b[0m \u001b[0mVmax_list\u001b[0m\u001b[0;34m,\u001b[0m \u001b[0mn_mag_bins\u001b[0m\u001b[0;34m,\u001b[0m \u001b[0mRA_list\u001b[0m\u001b[0;34m,\u001b[0m \u001b[0mDEC_list\u001b[0m\u001b[0;34m,\u001b[0m \u001b[0mn_patches\u001b[0m\u001b[0;34m,\u001b[0m\u001b[0;34m\u001b[0m\u001b[0;34m\u001b[0m\u001b[0m\n\u001b[1;32m    606\u001b[0m         center_guesses, survey, numba_installed)\n",
      "\u001b[0;31mNameError\u001b[0m: name 'plot_LF' is not defined"
     ]
    }
   ],
   "source": [
    "colour_cut_slope = 0.0\n",
    "colour_cut_intercept = 0.65\n",
    "all_M_list, all_M_err_list, all_phi_list, all_phi_err_list, red_M_list, red_M_err_list, red_phi_list, red_phi_err_list, blue_M_list, blue_M_err_list, blue_phi_list, blue_phi_err_list = lf.filter_plot_by_colour(\n",
    "    colour_cut_slope,\n",
    "    colour_cut_intercept,\n",
    "    r_rest_mag_list,\n",
    "    g_rest_mag_list,\n",
    "    Vmax_list,\n",
    "    n_bins,\n",
    "    RA_list,\n",
    "    Dec_list,\n",
    "    n_patches,\n",
    "    centers_array,\n",
    "    survey='kids',\n",
    "    numba_installed=True,\n",
    "    plot_savename='test_LF_colour.png')"
   ]
  },
  {
   "cell_type": "code",
   "execution_count": 26,
   "metadata": {
    "ExecuteTime": {
     "end_time": "2020-08-24T17:10:26.958416Z",
     "start_time": "2020-08-24T17:10:26.934213Z"
    }
   },
   "outputs": [
    {
     "ename": "NameError",
     "evalue": "name 'plot_LF' is not defined",
     "output_type": "error",
     "traceback": [
      "\u001b[0;31m---------------------------------------------------------------------------\u001b[0m",
      "\u001b[0;31mNameError\u001b[0m                                 Traceback (most recent call last)",
      "\u001b[0;32m<ipython-input-26-6dafe2106b0f>\u001b[0m in \u001b[0;36m<module>\u001b[0;34m\u001b[0m\n\u001b[1;32m     14\u001b[0m     np.array([[20, 21], [22, 20], [21, 22], [20, 21], [22, 20], [21, 22],\n\u001b[1;32m     15\u001b[0m               [20, 21], [22, 20], [21, 22], [20, 21], [22, 20], [21, 22]]),\n\u001b[0;32m---> 16\u001b[0;31m     plot_savename='test2_LF_colour.png')\n\u001b[0m",
      "\u001b[0;32m~/anaconda3/lib/python3.6/site-packages/lumfunc.py\u001b[0m in \u001b[0;36mfilter_plot_by_colour\u001b[0;34m(dichotomy_slope, dichotomy_intercept, rest_mag_list, higher_band_rest_mag_list, Vmax_list, n_mag_bins, RA_list, DEC_list, n_patches, center_guesses, survey, numba_installed, plot_savename)\u001b[0m\n\u001b[1;32m    602\u001b[0m \u001b[0;34m\u001b[0m\u001b[0m\n\u001b[1;32m    603\u001b[0m     \u001b[0;31m# all\u001b[0m\u001b[0;34m\u001b[0m\u001b[0;34m\u001b[0m\u001b[0;34m\u001b[0m\u001b[0m\n\u001b[0;32m--> 604\u001b[0;31m     M_list, M_err_list, phi_list, phi_err_list = plot_LF(\n\u001b[0m\u001b[1;32m    605\u001b[0m         \u001b[0mrest_mag_list\u001b[0m\u001b[0;34m,\u001b[0m \u001b[0mVmax_list\u001b[0m\u001b[0;34m,\u001b[0m \u001b[0mn_mag_bins\u001b[0m\u001b[0;34m,\u001b[0m \u001b[0mRA_list\u001b[0m\u001b[0;34m,\u001b[0m \u001b[0mDEC_list\u001b[0m\u001b[0;34m,\u001b[0m \u001b[0mn_patches\u001b[0m\u001b[0;34m,\u001b[0m\u001b[0;34m\u001b[0m\u001b[0;34m\u001b[0m\u001b[0m\n\u001b[1;32m    606\u001b[0m         center_guesses, survey, numba_installed)\n",
      "\u001b[0;31mNameError\u001b[0m: name 'plot_LF' is not defined"
     ]
    }
   ],
   "source": [
    "lf.filter_plot_by_colour(\n",
    "    0.0,\n",
    "    0.65,\n",
    "    np.array([-23, -21, -19, -22, -23, -23, -22, -23, -22, -22, -19, -21]),\n",
    "    np.array([-23.1, -22.4, -23.5, -22.1, -19.2, -21.3, -21.2, -19.3, -23.6, -22.7, -23.8, -22.9]),\n",
    "    np.array([\n",
    "        8e+08, 2e+08, 2e+07, 3e+08, 6e+08, 6e+08, 4e+08, 7e+08, 5e+08, 6e+08,\n",
    "        7e+06, 1e+08\n",
    "    ]),\n",
    "    4,\n",
    "    np.array([20, 21, 22, 20, 21, 22, 20, 21, 22, 20, 21, 22]),\n",
    "    np.array([20, 21, 22, 20, 21, 22, 20, 21, 22, 20, 21, 22]),\n",
    "    4,\n",
    "    np.array([[20, 21], [22, 20], [21, 22], [20, 21], [22, 20], [21, 22],\n",
    "              [20, 21], [22, 20], [21, 22], [20, 21], [22, 20], [21, 22]]),\n",
    "    plot_savename='test2_LF_colour.png')"
   ]
  },
  {
   "cell_type": "code",
   "execution_count": 27,
   "metadata": {
    "ExecuteTime": {
     "end_time": "2020-08-24T17:10:27.488443Z",
     "start_time": "2020-08-24T17:10:27.481338Z"
    }
   },
   "outputs": [
    {
     "name": "stdout",
     "output_type": "stream",
     "text": [
      "[1.85685848e-29 3.25671139e-11 1.72458831e-05 1.27468679e-03\n",
      " 6.12395219e-03 1.26803536e-02 2.02617665e-02 2.98927403e-02\n",
      " 4.30310959e-02 6.14770530e-02]\n"
     ]
    }
   ],
   "source": [
    "M_star_guess = -20.7\n",
    "phi_star_guess = 9.5e-3\n",
    "alpha_guess = -1.3\n",
    "sch1_model_Phi_list = lf.SchechterMagModel(M_list, M_star_guess,\n",
    "                                           phi_star_guess, alpha_guess)\n",
    "print(sch1_model_Phi_list)"
   ]
  },
  {
   "cell_type": "code",
   "execution_count": 28,
   "metadata": {
    "ExecuteTime": {
     "end_time": "2020-08-24T17:10:28.066882Z",
     "start_time": "2020-08-24T17:10:28.057350Z"
    }
   },
   "outputs": [
    {
     "data": {
      "text/plain": [
       "array([1.85685828e-29, 3.25671116e-11, 1.72458835e-05, 1.27468679e-03,\n",
       "       6.12395219e-03, 1.26803535e-02, 2.02617665e-02, 2.98927403e-02,\n",
       "       4.30310959e-02, 6.14770529e-02])"
      ]
     },
     "execution_count": 28,
     "metadata": {},
     "output_type": "execute_result"
    }
   ],
   "source": [
    "lf.SchechterMagModel(\n",
    "    np.array([\n",
    "        -25.1487769, -23.86987184, -22.59096677, -21.31206171, -20.03315665,\n",
    "        -18.75425159, -17.47534652, -16.19644146, -14.9175364, -13.63863134\n",
    "    ]), -20.7, 9.5e-3, -1.3)"
   ]
  },
  {
   "cell_type": "code",
   "execution_count": 29,
   "metadata": {
    "ExecuteTime": {
     "end_time": "2020-08-24T17:10:28.684644Z",
     "start_time": "2020-08-24T17:10:28.677945Z"
    }
   },
   "outputs": [
    {
     "name": "stdout",
     "output_type": "stream",
     "text": [
      "[1.94632963e-28 1.87206201e-10 5.43662983e-05 2.20369342e-03\n",
      " 5.80607779e-03 6.59304119e-03 5.77743541e-03 4.67441094e-03\n",
      " 3.69017477e-03 2.89121864e-03]\n"
     ]
    }
   ],
   "source": [
    "M_star_guess = -20.7\n",
    "phi_star_1_guess = 6.16e-3\n",
    "alpha_1_guess = -0.79\n",
    "phi_star_2_guess = 6.16e-3\n",
    "alpha_2_guess = -0.79\n",
    "sch2_model_Phi_list = lf.DoubleSchechterMagModel(M_list, M_star_guess,\n",
    "                                                 phi_star_1_guess,\n",
    "                                                 alpha_1_guess,\n",
    "                                                 phi_star_2_guess,\n",
    "                                                 alpha_2_guess)\n",
    "print(sch2_model_Phi_list)"
   ]
  },
  {
   "cell_type": "code",
   "execution_count": 30,
   "metadata": {
    "ExecuteTime": {
     "end_time": "2020-08-24T17:10:29.242040Z",
     "start_time": "2020-08-24T17:10:29.233343Z"
    }
   },
   "outputs": [
    {
     "data": {
      "text/plain": [
       "array([1.94632943e-28, 1.87206188e-10, 5.43662993e-05, 2.20369343e-03,\n",
       "       5.80607779e-03, 6.59304119e-03, 5.77743541e-03, 4.67441094e-03,\n",
       "       3.69017477e-03, 2.89121865e-03])"
      ]
     },
     "execution_count": 30,
     "metadata": {},
     "output_type": "execute_result"
    }
   ],
   "source": [
    "lf.DoubleSchechterMagModel(\n",
    "    np.array([\n",
    "        -25.1487769, -23.86987184, -22.59096677, -21.31206171, -20.03315665,\n",
    "        -18.75425159, -17.47534652, -16.19644146, -14.9175364, -13.63863134\n",
    "    ]), -20.7, 6.16e-3, -0.79, 6.16e-3, -0.79)"
   ]
  },
  {
   "cell_type": "code",
   "execution_count": 31,
   "metadata": {
    "ExecuteTime": {
     "end_time": "2020-08-24T17:10:29.862592Z",
     "start_time": "2020-08-24T17:10:29.857005Z"
    }
   },
   "outputs": [
    {
     "name": "stdout",
     "output_type": "stream",
     "text": [
      "340.17429215914507\n"
     ]
    }
   ],
   "source": [
    "gof = lf.get_gof(phi_list, phi_err_list, sch1_model_Phi_list, 3)\n",
    "print(gof)"
   ]
  },
  {
   "cell_type": "code",
   "execution_count": 32,
   "metadata": {
    "ExecuteTime": {
     "end_time": "2020-08-24T17:10:30.362018Z",
     "start_time": "2020-08-24T17:10:30.349912Z"
    }
   },
   "outputs": [
    {
     "data": {
      "text/plain": [
       "350.4307210865808"
      ]
     },
     "execution_count": 32,
     "metadata": {},
     "output_type": "execute_result"
    }
   ],
   "source": [
    "lf.get_gof(\n",
    "    np.array([\n",
    "        2.78118218e+02, 2.54476157e+02, 6.57347457e-05, 1.98257155e-04,\n",
    "        4.84943102e-04, 1.02149157e-03, 1.49165665e-03, 4.54012724e-03,\n",
    "        5.08195775e-03, 6.14432455e-02\n",
    "    ]),\n",
    "    np.array([\n",
    "        5.95325647e+02, 5.32152273e+02, 5.58145413e-05, 7.99795748e-05,\n",
    "        3.17382142e-04, 4.53397058e-04, 6.06947792e-04, 4.84320229e-03,\n",
    "        2.15542853e-03, 1.72479207e-01\n",
    "    ]),\n",
    "    np.array([\n",
    "        1.85685848e-29, 3.25671139e-11, 1.72458831e-05, 1.27468679e-03,\n",
    "        6.12395219e-03, 1.26803536e-02, 2.02617665e-02, 2.98927403e-02,\n",
    "        4.30310959e-02, 6.14770530e-02\n",
    "    ]), 3)"
   ]
  },
  {
   "cell_type": "code",
   "execution_count": 33,
   "metadata": {
    "ExecuteTime": {
     "end_time": "2020-08-24T17:10:30.864579Z",
     "start_time": "2020-08-24T17:10:30.849194Z"
    }
   },
   "outputs": [
    {
     "ename": "NameError",
     "evalue": "name 'all_phi_list' is not defined",
     "output_type": "error",
     "traceback": [
      "\u001b[0;31m---------------------------------------------------------------------------\u001b[0m",
      "\u001b[0;31mNameError\u001b[0m                                 Traceback (most recent call last)",
      "\u001b[0;32m<ipython-input-33-822afbc6b4e4>\u001b[0m in \u001b[0;36m<module>\u001b[0;34m\u001b[0m\n\u001b[1;32m      2\u001b[0m     \u001b[0mM_list\u001b[0m\u001b[0;34m,\u001b[0m\u001b[0;34m\u001b[0m\u001b[0;34m\u001b[0m\u001b[0m\n\u001b[1;32m      3\u001b[0m     \u001b[0mM_err_list\u001b[0m\u001b[0;34m,\u001b[0m\u001b[0;34m\u001b[0m\u001b[0;34m\u001b[0m\u001b[0m\n\u001b[0;32m----> 4\u001b[0;31m     \u001b[0mall_phi_list\u001b[0m\u001b[0;34m,\u001b[0m\u001b[0;34m\u001b[0m\u001b[0;34m\u001b[0m\u001b[0m\n\u001b[0m\u001b[1;32m      5\u001b[0m     \u001b[0mall_phi_err_list\u001b[0m\u001b[0;34m,\u001b[0m\u001b[0;34m\u001b[0m\u001b[0;34m\u001b[0m\u001b[0m\n\u001b[1;32m      6\u001b[0m     \u001b[0mnp\u001b[0m\u001b[0;34m.\u001b[0m\u001b[0marray\u001b[0m\u001b[0;34m(\u001b[0m\u001b[0;34m[\u001b[0m\u001b[0mM_star_guess\u001b[0m\u001b[0;34m,\u001b[0m \u001b[0mphi_star_guess\u001b[0m\u001b[0;34m,\u001b[0m \u001b[0malpha_guess\u001b[0m\u001b[0;34m]\u001b[0m\u001b[0;34m)\u001b[0m\u001b[0;34m,\u001b[0m\u001b[0;34m\u001b[0m\u001b[0;34m\u001b[0m\u001b[0m\n",
      "\u001b[0;31mNameError\u001b[0m: name 'all_phi_list' is not defined"
     ]
    }
   ],
   "source": [
    "sch1_model_phi_list, chi_sq_1, M_star, M_star_err, phi_star, phi_star_err, alpha_star, alpha_star_err = lf.get_schechter_phi(\n",
    "    M_list,\n",
    "    M_err_list,\n",
    "    all_phi_list,\n",
    "    all_phi_err_list,\n",
    "    np.array([M_star_guess, phi_star_guess, alpha_guess]),\n",
    "    plot_savename='test_Sch.png')"
   ]
  },
  {
   "cell_type": "code",
   "execution_count": 34,
   "metadata": {
    "ExecuteTime": {
     "end_time": "2020-08-24T17:10:32.719808Z",
     "start_time": "2020-08-24T17:10:31.413448Z"
    }
   },
   "outputs": [
    {
     "data": {
      "image/png": "[encoded data removed]",
      "text/plain": [
       "<Figure size 720x720 with 1 Axes>"
      ]
     },
     "metadata": {
      "needs_background": "light"
     },
     "output_type": "display_data"
    },
    {
     "data": {
      "text/plain": [
       "(array([1.71053536e-07, 5.16404480e-06, 4.05370711e-05, 1.46583441e-04,\n",
       "        3.39318246e-04, 6.07660357e-04, 9.38795731e-04, 1.33220354e-03,\n",
       "        1.80023894e-03, 2.36519761e-03, 3.05753557e-03, 3.91587143e-03,\n",
       "        4.98834428e-03, 6.33496571e-03]),\n",
       " 1.0209802688993401,\n",
       " -22.51627500778435,\n",
       " 0.09643423019822513,\n",
       " 0.0007681235644217974,\n",
       " 0.00015735301981608952,\n",
       " -1.4248810024852225,\n",
       " 0.06007607488402875)"
      ]
     },
     "execution_count": 34,
     "metadata": {},
     "output_type": "execute_result"
    }
   ],
   "source": [
    "lf.get_schechter_phi(np.array([\n",
    "    -24.7, -24.1, -23.5, -22.9, -22.3, -21.7, -21.1, -20.5, -19.9, -19.3,\n",
    "    -18.7, -18.1, -17.5, -16.9\n",
    "]),\n",
    "    np.ones(14) * 0.3,\n",
    "    np.array([\n",
    "        8.1e-07, 3.9e-06, 3.7e-05, 1.9e-04, 4.1e-04, 6.7e-04,\n",
    "        9.1e-04, 1.1e-03, 1.5e-03, 2.5e-03, 3.5e-03, 3.7e-03,\n",
    "        5.1e-03, 7.6e-03\n",
    "    ]),\n",
    "    np.array([\n",
    "        2.6e-07, 1.3e-06, 9.5e-06, 3.9e-05, 8.5e-05, 1.4e-04,\n",
    "        2.1e-04, 2.6e-04, 3.9e-04, 6.9e-04, 1.1e-03, 1.2e-03,\n",
    "        1.4e-03, 2.2e-03\n",
    "    ]),\n",
    "    np.array([-20.71, 9.5e-3, -1.3]),\n",
    "    plot_savename='test2_Sch.png')"
   ]
  },
  {
   "cell_type": "code",
   "execution_count": 35,
   "metadata": {
    "ExecuteTime": {
     "end_time": "2020-08-24T17:10:32.745160Z",
     "start_time": "2020-08-24T17:10:32.724320Z"
    }
   },
   "outputs": [
    {
     "ename": "NameError",
     "evalue": "name 'all_phi_list' is not defined",
     "output_type": "error",
     "traceback": [
      "\u001b[0;31m---------------------------------------------------------------------------\u001b[0m",
      "\u001b[0;31mNameError\u001b[0m                                 Traceback (most recent call last)",
      "\u001b[0;32m<ipython-input-35-6a6cf54528d9>\u001b[0m in \u001b[0;36m<module>\u001b[0;34m\u001b[0m\n\u001b[1;32m      2\u001b[0m     \u001b[0mM_list\u001b[0m\u001b[0;34m,\u001b[0m\u001b[0;34m\u001b[0m\u001b[0;34m\u001b[0m\u001b[0m\n\u001b[1;32m      3\u001b[0m     \u001b[0mM_err_list\u001b[0m\u001b[0;34m,\u001b[0m\u001b[0;34m\u001b[0m\u001b[0;34m\u001b[0m\u001b[0m\n\u001b[0;32m----> 4\u001b[0;31m     \u001b[0mall_phi_list\u001b[0m\u001b[0;34m,\u001b[0m\u001b[0;34m\u001b[0m\u001b[0;34m\u001b[0m\u001b[0m\n\u001b[0m\u001b[1;32m      5\u001b[0m     \u001b[0mall_phi_err_list\u001b[0m\u001b[0;34m,\u001b[0m\u001b[0;34m\u001b[0m\u001b[0;34m\u001b[0m\u001b[0m\n\u001b[1;32m      6\u001b[0m     np.array([\n",
      "\u001b[0;31mNameError\u001b[0m: name 'all_phi_list' is not defined"
     ]
    }
   ],
   "source": [
    "sch2_model_phi_list, chi_sq_1, M_star, M_star_err, phi_star_1, phi_star_err_1, phi_star_2, phi_star_err_2, alpha_star_1, alpha_star_err_1, alpha_star_2, alpha_star_err_2 = lf.get_double_schechter_phi(\n",
    "    M_list,\n",
    "    M_err_list,\n",
    "    all_phi_list,\n",
    "    all_phi_err_list,\n",
    "    np.array([\n",
    "        M_star_guess, phi_star_1_guess, alpha_1_guess, phi_star_2_guess,\n",
    "        alpha_2_guess\n",
    "    ]),\n",
    "    plot_savename='test_dSch.png')"
   ]
  },
  {
   "cell_type": "code",
   "execution_count": null,
   "metadata": {
    "ExecuteTime": {
     "end_time": "2020-08-24T17:10:32.754817Z",
     "start_time": "2020-08-24T17:10:32.510Z"
    }
   },
   "outputs": [],
   "source": [
    "lf.get_double_schechter_phi(np.array([\n",
    "    -24.7, -24.1, -23.5, -22.9, -22.3, -21.7, -21.1, -20.5, -19.9, -19.3,\n",
    "    -18.7, -18.1, -17.5, -16.9\n",
    "]),\n",
    "    np.ones(14) * 0.3,\n",
    "    np.array([\n",
    "        8.05e-07, 3.88e-06, 3.69e-05, 1.89e-04,\n",
    "        4.05e-04, 6.72e-04, 9.09e-04, 1.11e-03,\n",
    "        1.48e-03, 2.49e-03, 3.51e-03, 3.72e-03,\n",
    "        5.01e-03, 7.55e-03\n",
    "    ]),\n",
    "    np.array([\n",
    "        2.61e-07, 1.25e-06, 9.52e-06, 3.89e-05,\n",
    "        8.49e-05, 1.39e-04, 2.00e-04, 2.57e-04,\n",
    "        3.95e-04, 6.88e-04, 1.10e-03, 1.17e-03,\n",
    "        1.39e-03, 2.17e-03\n",
    "    ]),\n",
    "    np.array([-20.7, 6.16e-3, -0.79, 6.16e-3, -0.79]),\n",
    "    plot_savename='test2_dSch.png')"
   ]
  },
  {
   "cell_type": "markdown",
   "metadata": {},
   "source": []
  }
 ],
 "metadata": {
  "kernelspec": {
   "display_name": "Python 3",
   "language": "python",
   "name": "python3"
  },
  "language_info": {
   "codemirror_mode": {
    "name": "ipython",
    "version": 3
   },
   "file_extension": ".py",
   "mimetype": "text/x-python",
   "name": "python",
   "nbconvert_exporter": "python",
   "pygments_lexer": "ipython3",
   "version": "3.6.9"
  },
  "toc": {
   "base_numbering": 1,
   "nav_menu": {},
   "number_sections": true,
   "sideBar": true,
   "skip_h1_title": false,
   "title_cell": "Table of Contents",
   "title_sidebar": "Contents",
   "toc_cell": false,
   "toc_position": {},
   "toc_section_display": true,
   "toc_window_display": false
  }
 },
 "nbformat": 4,
 "nbformat_minor": 2
}
